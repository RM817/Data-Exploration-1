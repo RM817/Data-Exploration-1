{
 "cells": [
  {
   "cell_type": "markdown",
   "metadata": {},
   "source": [
    "## Problem 1"
   ]
  },
  {
   "cell_type": "markdown",
   "metadata": {},
   "source": [
    "Important features that would need to be included in this model would be:  \n",
    "  \n",
    "1. The height at which the coin in launch initially.  \n",
    "2. The number of flips the coin did.  \n",
    "3. Wind or other deterring factors.  \n",
    "4. The time the coin spent in the air."
   ]
  },
  {
   "cell_type": "markdown",
   "metadata": {},
   "source": [
    "## Problem 2"
   ]
  },
  {
   "cell_type": "markdown",
   "metadata": {},
   "source": [
    "From this article, this obvious features they use include, but are not limited to: \n",
    "  \n",
    "1. Information about the title being watched such as genre, release year, actors/actresses, and rating.  \n",
    "2. Number of views within a certain genre and how the user rates these genres.  \n",
    "3. What device a title was watched on and how long it was being used.  \n",
    "4. Similarities betweens other users.  \n",
    "5. The time of day Netflix is being used.  \n",
    "  \n",
    "  \n",
    "Adding a feature that predicts a person's genre and categorial evolution could be useful if it is not already in use. Perhaps someone who watches history documentaries begins to watch shows about nature. Then, after some time, they begin to watch a different genre. This evolution of taste could be applied to people who start to watch history documentaries. The algorithm could then suggest the nature genre after 'x' amount of days based on how long it took other users to jump to this category. Regionality could be useful as people in New York could be interested in shows that take place or are about New York. However, with their stance on age and gender, I believe they would not do this possibly due to biasing the viewers."
   ]
  },
  {
   "cell_type": "code",
   "execution_count": null,
   "metadata": {},
   "outputs": [],
   "source": []
  }
 ],
 "metadata": {
  "kernelspec": {
   "display_name": "Python 3",
   "language": "python",
   "name": "python3"
  },
  "language_info": {
   "codemirror_mode": {
    "name": "ipython",
    "version": 3
   },
   "file_extension": ".py",
   "mimetype": "text/x-python",
   "name": "python",
   "nbconvert_exporter": "python",
   "pygments_lexer": "ipython3",
   "version": "3.7.3"
  }
 },
 "nbformat": 4,
 "nbformat_minor": 2
}
